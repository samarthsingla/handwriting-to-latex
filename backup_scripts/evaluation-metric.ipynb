{
 "cells": [
  {
   "cell_type": "code",
   "execution_count": 1,
   "id": "f7400e06",
   "metadata": {
    "_cell_guid": "b1076dfc-b9ad-4769-8c92-a6c4dae69d19",
    "_uuid": "8f2839f25d086af736a60e9eeb907d3b93b6e0e5",
    "execution": {
     "iopub.execute_input": "2023-11-01T16:50:09.066101Z",
     "iopub.status.busy": "2023-11-01T16:50:09.065356Z",
     "iopub.status.idle": "2023-11-01T16:50:11.166235Z",
     "shell.execute_reply": "2023-11-01T16:50:11.164541Z"
    },
    "papermill": {
     "duration": 2.108331,
     "end_time": "2023-11-01T16:50:11.169131",
     "exception": false,
     "start_time": "2023-11-01T16:50:09.060800",
     "status": "completed"
    },
    "tags": []
   },
   "outputs": [],
   "source": [
    "import math\n",
    "from nltk import word_tokenize\n",
    "from collections import Counter\n",
    "from nltk.util import ngrams\n",
    "\n",
    "\n",
    "class BLEU(object):\n",
    "    @staticmethod\n",
    "    def compute(candidate, references, weights):\n",
    "        candidate = [c.lower() for c in candidate]\n",
    "        references = [[r.lower() for r in reference] for reference in references]\n",
    "\n",
    "        p_ns = (BLEU.modified_precision(candidate, references, i) for i, _ in enumerate(weights, start=1))\n",
    "        s = math.fsum(w * math.log(p_n) for w, p_n in zip(weights, p_ns) if p_n)\n",
    "\n",
    "        bp = BLEU.brevity_penalty(candidate, references)\n",
    "        return bp * math.exp(s)\n",
    "\n",
    "    @staticmethod\n",
    "    def modified_precision(candidate, references, n):\n",
    "        counts = Counter(ngrams(candidate, n))\n",
    "\n",
    "        if not counts:\n",
    "            return 0\n",
    "\n",
    "        max_counts = {}\n",
    "        for reference in references:\n",
    "            reference_counts = Counter(ngrams(reference, n))\n",
    "            for ngram in counts:\n",
    "                max_counts[ngram] = max(max_counts.get(ngram, 0), reference_counts[ngram])\n",
    "\n",
    "        clipped_counts = dict((ngram, min(count, max_counts[ngram])) for ngram, count in counts.items())\n",
    "\n",
    "        return sum(clipped_counts.values()) / sum(counts.values())\n",
    "    \n",
    "    @staticmethod\n",
    "    def brevity_penalty(candidate, references):\n",
    "        c = len(candidate)\n",
    "        # r = min(abs(len(r) - c) for r in references)\n",
    "        r = min(len(r) for r in references)\n",
    "\n",
    "        if c > r:\n",
    "            return 1\n",
    "        else:\n",
    "            return math.exp(1 - r / c)\n",
    "        \n"
   ]
  },
  {
   "cell_type": "code",
   "execution_count": 2,
   "id": "d28d8c7b",
   "metadata": {
    "execution": {
     "iopub.execute_input": "2023-11-01T16:50:11.175640Z",
     "iopub.status.busy": "2023-11-01T16:50:11.175093Z",
     "iopub.status.idle": "2023-11-01T16:50:11.185706Z",
     "shell.execute_reply": "2023-11-01T16:50:11.184520Z"
    },
    "papermill": {
     "duration": 0.01648,
     "end_time": "2023-11-01T16:50:11.188122",
     "exception": false,
     "start_time": "2023-11-01T16:50:11.171642",
     "status": "completed"
    },
    "tags": []
   },
   "outputs": [
    {
     "name": "stdout",
     "output_type": "stream",
     "text": [
      "Macro Bleu :  0.6723318725973813\n"
     ]
    }
   ],
   "source": [
    "scorer = BLEU()\n",
    "grount_truths = [\"$ \\sin ^ { 2 } \\theta + \\cos ^ { 2 } \\theta = 1 $\",\n",
    "                 \"$ \\sum _ { { T \\geq g } } { 8 . 2 } $\",\n",
    "                 \"$ r = r ( \\theta ) $\"]\n",
    "\n",
    "\n",
    "# the predictions must be in the same format where each symbol is followed by a space\n",
    "predictions = [\"$ \\cos ^ { 2 } \\theta + \\cos ^ { 2 } \\theta = 1 } } } $  \",\n",
    "               \"$ \\sum _ { { T \\leq g } } { 0 . 2 } $\",\n",
    "               \"$ x = R ( \\theta ) $\"]\n",
    "\n",
    "\n",
    "overall = 0\n",
    "for gt, pred in zip(grount_truths, predictions):\n",
    "    gt = gt.split()\n",
    "    pred = pred.split()\n",
    "    overall += BLEU.compute(pred,[gt], weights=[1/4, 1/4, 1/4, 1/4])\n",
    "\n",
    "print(\"Macro Bleu : \", overall/len(predictions))"
   ]
  },
  {
   "cell_type": "code",
   "execution_count": null,
   "id": "02d12eba",
   "metadata": {
    "papermill": {
     "duration": 0.001949,
     "end_time": "2023-11-01T16:50:11.192378",
     "exception": false,
     "start_time": "2023-11-01T16:50:11.190429",
     "status": "completed"
    },
    "tags": []
   },
   "outputs": [],
   "source": []
  }
 ],
 "metadata": {
  "kernelspec": {
   "display_name": "Python 3 (ipykernel)",
   "language": "python",
   "name": "python3"
  },
  "language_info": {
   "codemirror_mode": {
    "name": "ipython",
    "version": 3
   },
   "file_extension": ".py",
   "mimetype": "text/x-python",
   "name": "python",
   "nbconvert_exporter": "python",
   "pygments_lexer": "ipython3",
   "version": "3.11.4"
  },
  "papermill": {
   "default_parameters": {},
   "duration": 6.465098,
   "end_time": "2023-11-01T16:50:11.714543",
   "environment_variables": {},
   "exception": null,
   "input_path": "__notebook__.ipynb",
   "output_path": "__notebook__.ipynb",
   "parameters": {},
   "start_time": "2023-11-01T16:50:05.249445",
   "version": "2.4.0"
  }
 },
 "nbformat": 4,
 "nbformat_minor": 5
}
